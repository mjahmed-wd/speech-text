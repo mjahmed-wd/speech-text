{
 "cells": [
  {
   "cell_type": "code",
   "execution_count": 1,
   "metadata": {},
   "outputs": [],
   "source": [
    "! pip install --upgrade -q faster-whisper ipython-autotime"
   ]
  },
  {
   "cell_type": "code",
   "execution_count": 2,
   "metadata": {},
   "outputs": [
    {
     "name": "stdout",
     "output_type": "stream",
     "text": [
      "time: 61.8 µs (started: 2023-12-12 13:37:51 +06:00)\n"
     ]
    }
   ],
   "source": [
    "%load_ext autotime"
   ]
  },
  {
   "cell_type": "code",
   "execution_count": 4,
   "metadata": {},
   "outputs": [
    {
     "data": {
      "application/vnd.jupyter.widget-view+json": {
       "model_id": "4b36c1897b18466fa1b7ded11111c5b3",
       "version_major": 2,
       "version_minor": 0
      },
      "text/plain": [
       "Downloading model.bin:   0%|          | 0.00/3.09G [00:00<?, ?B/s]"
      ]
     },
     "metadata": {},
     "output_type": "display_data"
    },
    {
     "ename": "ValueError",
     "evalue": "This CTranslate2 package was not compiled with CUDA support",
     "output_type": "error",
     "traceback": [
      "\u001b[0;31m---------------------------------------------------------------------------\u001b[0m",
      "\u001b[0;31mValueError\u001b[0m                                Traceback (most recent call last)",
      "\u001b[1;32m/Users/metadesign/Desktop/projects/learning/transcribe-python/faster-whisper.ipynb Cell 3\u001b[0m line \u001b[0;36m6\n\u001b[1;32m      <a href='vscode-notebook-cell:/Users/metadesign/Desktop/projects/learning/transcribe-python/faster-whisper.ipynb#W2sZmlsZQ%3D%3D?line=2'>3</a>\u001b[0m model_size \u001b[39m=\u001b[39m \u001b[39m\"\u001b[39m\u001b[39mlarge-v2\u001b[39m\u001b[39m\"\u001b[39m\n\u001b[1;32m      <a href='vscode-notebook-cell:/Users/metadesign/Desktop/projects/learning/transcribe-python/faster-whisper.ipynb#W2sZmlsZQ%3D%3D?line=4'>5</a>\u001b[0m \u001b[39m# Run on GPU with FP16\u001b[39;00m\n\u001b[0;32m----> <a href='vscode-notebook-cell:/Users/metadesign/Desktop/projects/learning/transcribe-python/faster-whisper.ipynb#W2sZmlsZQ%3D%3D?line=5'>6</a>\u001b[0m model \u001b[39m=\u001b[39m WhisperModel(model_size, device\u001b[39m=\u001b[39;49m\u001b[39m\"\u001b[39;49m\u001b[39mcuda\u001b[39;49m\u001b[39m\"\u001b[39;49m, compute_type\u001b[39m=\u001b[39;49m\u001b[39m\"\u001b[39;49m\u001b[39mfloat16\u001b[39;49m\u001b[39m\"\u001b[39;49m)\n",
      "File \u001b[0;32m~/Desktop/projects/learning/transcribe-python/myenv/lib/python3.11/site-packages/faster_whisper/transcribe.py:130\u001b[0m, in \u001b[0;36mWhisperModel.__init__\u001b[0;34m(self, model_size_or_path, device, device_index, compute_type, cpu_threads, num_workers, download_root, local_files_only)\u001b[0m\n\u001b[1;32m    123\u001b[0m \u001b[39melse\u001b[39;00m:\n\u001b[1;32m    124\u001b[0m     model_path \u001b[39m=\u001b[39m download_model(\n\u001b[1;32m    125\u001b[0m         model_size_or_path,\n\u001b[1;32m    126\u001b[0m         local_files_only\u001b[39m=\u001b[39mlocal_files_only,\n\u001b[1;32m    127\u001b[0m         cache_dir\u001b[39m=\u001b[39mdownload_root,\n\u001b[1;32m    128\u001b[0m     )\n\u001b[0;32m--> 130\u001b[0m \u001b[39mself\u001b[39m\u001b[39m.\u001b[39mmodel \u001b[39m=\u001b[39m ctranslate2\u001b[39m.\u001b[39;49mmodels\u001b[39m.\u001b[39;49mWhisper(\n\u001b[1;32m    131\u001b[0m     model_path,\n\u001b[1;32m    132\u001b[0m     device\u001b[39m=\u001b[39;49mdevice,\n\u001b[1;32m    133\u001b[0m     device_index\u001b[39m=\u001b[39;49mdevice_index,\n\u001b[1;32m    134\u001b[0m     compute_type\u001b[39m=\u001b[39;49mcompute_type,\n\u001b[1;32m    135\u001b[0m     intra_threads\u001b[39m=\u001b[39;49mcpu_threads,\n\u001b[1;32m    136\u001b[0m     inter_threads\u001b[39m=\u001b[39;49mnum_workers,\n\u001b[1;32m    137\u001b[0m )\n\u001b[1;32m    139\u001b[0m tokenizer_file \u001b[39m=\u001b[39m os\u001b[39m.\u001b[39mpath\u001b[39m.\u001b[39mjoin(model_path, \u001b[39m\"\u001b[39m\u001b[39mtokenizer.json\u001b[39m\u001b[39m\"\u001b[39m)\n\u001b[1;32m    140\u001b[0m \u001b[39mif\u001b[39;00m os\u001b[39m.\u001b[39mpath\u001b[39m.\u001b[39misfile(tokenizer_file):\n",
      "\u001b[0;31mValueError\u001b[0m: This CTranslate2 package was not compiled with CUDA support"
     ]
    },
    {
     "name": "stdout",
     "output_type": "stream",
     "text": [
      "time: 23min 27s (started: 2023-12-12 14:15:27 +06:00)\n"
     ]
    }
   ],
   "source": [
    "from faster_whisper import WhisperModel\n",
    "\n",
    "model_size = \"large-v2\"\n",
    "\n",
    "# Run on GPU with FP16\n",
    "model = WhisperModel(model_size, device=\"cuda\", compute_type=\"float16\")"
   ]
  },
  {
   "cell_type": "code",
   "execution_count": null,
   "metadata": {},
   "outputs": [],
   "source": [
    "segments, info = model.transcribe(\"audio_2.mp3\", beam_size=1)"
   ]
  },
  {
   "cell_type": "code",
   "execution_count": null,
   "metadata": {},
   "outputs": [],
   "source": [
    "print(\"Detected language '%s' with probability %f\" % (info.language, info.language_probability))"
   ]
  },
  {
   "cell_type": "code",
   "execution_count": null,
   "metadata": {},
   "outputs": [],
   "source": [
    "for segment in segments:\n",
    "    print(\"[%.2fs -> %.2fs] %s\" % (segment.start, segment.end, segment.text))"
   ]
  }
 ],
 "metadata": {
  "kernelspec": {
   "display_name": "myenv",
   "language": "python",
   "name": "python3"
  },
  "language_info": {
   "codemirror_mode": {
    "name": "ipython",
    "version": 3
   },
   "file_extension": ".py",
   "mimetype": "text/x-python",
   "name": "python",
   "nbconvert_exporter": "python",
   "pygments_lexer": "ipython3",
   "version": "3.11.6"
  }
 },
 "nbformat": 4,
 "nbformat_minor": 2
}
