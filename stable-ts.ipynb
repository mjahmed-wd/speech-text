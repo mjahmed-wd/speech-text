{
 "cells": [
  {
   "cell_type": "code",
   "execution_count": 1,
   "metadata": {},
   "outputs": [
    {
     "name": "stdout",
     "output_type": "stream",
     "text": [
      "Collecting stable-ts\n",
      "  Downloading stable-ts-2.13.7.tar.gz (76 kB)\n",
      "\u001b[2K     \u001b[90m━━━━━━━━━━━━━━━━━━━━━━━━━━━━━━━━━━━━━━━\u001b[0m \u001b[32m76.2/76.2 kB\u001b[0m \u001b[31m554.6 kB/s\u001b[0m eta \u001b[36m0:00:00\u001b[0ma \u001b[36m0:00:01\u001b[0m\n",
      "\u001b[?25h  Installing build dependencies ... \u001b[?25ldone\n",
      "\u001b[?25h  Getting requirements to build wheel ... \u001b[?25ldone\n",
      "\u001b[?25h  Preparing metadata (pyproject.toml) ... \u001b[?25ldone\n",
      "\u001b[?25hRequirement already satisfied: numpy in ./myenv/lib/python3.11/site-packages (from stable-ts) (1.26.2)\n",
      "Requirement already satisfied: torch in ./myenv/lib/python3.11/site-packages (from stable-ts) (2.1.1)\n",
      "Collecting torchaudio (from stable-ts)\n",
      "  Downloading torchaudio-2.1.1-cp311-cp311-macosx_11_0_arm64.whl.metadata (6.4 kB)\n",
      "Requirement already satisfied: tqdm in ./myenv/lib/python3.11/site-packages (from stable-ts) (4.66.1)\n",
      "Collecting more-itertools (from stable-ts)\n",
      "  Using cached more_itertools-10.1.0-py3-none-any.whl.metadata (33 kB)\n",
      "Requirement already satisfied: transformers>=4.19.0 in ./myenv/lib/python3.11/site-packages (from stable-ts) (4.34.1)\n",
      "Collecting ffmpeg-python==0.2.0 (from stable-ts)\n",
      "  Downloading ffmpeg_python-0.2.0-py3-none-any.whl (25 kB)\n",
      "Collecting openai-whisper==20231117 (from stable-ts)\n",
      "  Downloading openai-whisper-20231117.tar.gz (798 kB)\n",
      "\u001b[2K     \u001b[90m━━━━━━━━━━━━━━━━━━━━━━━━━━━━━━━━━━━━━━━\u001b[0m \u001b[32m798.6/798.6 kB\u001b[0m \u001b[31m2.8 MB/s\u001b[0m eta \u001b[36m0:00:00\u001b[0ma \u001b[36m0:00:01\u001b[0m\n",
      "\u001b[?25h  Installing build dependencies ... \u001b[?25ldone\n",
      "\u001b[?25h  Getting requirements to build wheel ... \u001b[?25ldone\n",
      "\u001b[?25h  Preparing metadata (pyproject.toml) ... \u001b[?25ldone\n",
      "\u001b[?25hCollecting future (from ffmpeg-python==0.2.0->stable-ts)\n",
      "  Downloading future-0.18.3.tar.gz (840 kB)\n",
      "\u001b[2K     \u001b[90m━━━━━━━━━━━━━━━━━━━━━━━━━━━━━━━━━━━━━━━\u001b[0m \u001b[32m840.9/840.9 kB\u001b[0m \u001b[31m3.2 MB/s\u001b[0m eta \u001b[36m0:00:00\u001b[0ma \u001b[36m0:00:01\u001b[0m\n",
      "\u001b[?25h  Installing build dependencies ... \u001b[?25ldone\n",
      "\u001b[?25h  Getting requirements to build wheel ... \u001b[?25ldone\n",
      "\u001b[?25h  Preparing metadata (pyproject.toml) ... \u001b[?25ldone\n",
      "\u001b[?25hRequirement already satisfied: numba in ./myenv/lib/python3.11/site-packages (from openai-whisper==20231117->stable-ts) (0.58.1)\n",
      "Collecting tiktoken (from openai-whisper==20231117->stable-ts)\n",
      "  Downloading tiktoken-0.5.2-cp311-cp311-macosx_11_0_arm64.whl.metadata (6.6 kB)\n",
      "Requirement already satisfied: filelock in ./myenv/lib/python3.11/site-packages (from transformers>=4.19.0->stable-ts) (3.13.1)\n",
      "Requirement already satisfied: huggingface-hub<1.0,>=0.16.4 in ./myenv/lib/python3.11/site-packages (from transformers>=4.19.0->stable-ts) (0.17.3)\n",
      "Requirement already satisfied: packaging>=20.0 in ./myenv/lib/python3.11/site-packages (from transformers>=4.19.0->stable-ts) (23.2)\n",
      "Requirement already satisfied: pyyaml>=5.1 in ./myenv/lib/python3.11/site-packages (from transformers>=4.19.0->stable-ts) (6.0.1)\n",
      "Requirement already satisfied: regex!=2019.12.17 in ./myenv/lib/python3.11/site-packages (from transformers>=4.19.0->stable-ts) (2023.10.3)\n",
      "Requirement already satisfied: requests in ./myenv/lib/python3.11/site-packages (from transformers>=4.19.0->stable-ts) (2.31.0)\n",
      "Requirement already satisfied: tokenizers<0.15,>=0.14 in ./myenv/lib/python3.11/site-packages (from transformers>=4.19.0->stable-ts) (0.14.1)\n",
      "Requirement already satisfied: safetensors>=0.3.1 in ./myenv/lib/python3.11/site-packages (from transformers>=4.19.0->stable-ts) (0.4.1)\n",
      "Requirement already satisfied: typing-extensions in ./myenv/lib/python3.11/site-packages (from torch->stable-ts) (4.9.0)\n",
      "Requirement already satisfied: sympy in ./myenv/lib/python3.11/site-packages (from torch->stable-ts) (1.12)\n",
      "Requirement already satisfied: networkx in ./myenv/lib/python3.11/site-packages (from torch->stable-ts) (3.2.1)\n",
      "Requirement already satisfied: jinja2 in ./myenv/lib/python3.11/site-packages (from torch->stable-ts) (3.1.2)\n",
      "Requirement already satisfied: fsspec in ./myenv/lib/python3.11/site-packages (from torch->stable-ts) (2023.12.1)\n",
      "Requirement already satisfied: MarkupSafe>=2.0 in ./myenv/lib/python3.11/site-packages (from jinja2->torch->stable-ts) (2.1.3)\n",
      "Requirement already satisfied: llvmlite<0.42,>=0.41.0dev0 in ./myenv/lib/python3.11/site-packages (from numba->openai-whisper==20231117->stable-ts) (0.41.1)\n",
      "Requirement already satisfied: charset-normalizer<4,>=2 in ./myenv/lib/python3.11/site-packages (from requests->transformers>=4.19.0->stable-ts) (3.3.2)\n",
      "Requirement already satisfied: idna<4,>=2.5 in ./myenv/lib/python3.11/site-packages (from requests->transformers>=4.19.0->stable-ts) (3.6)\n",
      "Requirement already satisfied: urllib3<3,>=1.21.1 in ./myenv/lib/python3.11/site-packages (from requests->transformers>=4.19.0->stable-ts) (2.1.0)\n",
      "Requirement already satisfied: certifi>=2017.4.17 in ./myenv/lib/python3.11/site-packages (from requests->transformers>=4.19.0->stable-ts) (2023.11.17)\n",
      "Requirement already satisfied: mpmath>=0.19 in ./myenv/lib/python3.11/site-packages (from sympy->torch->stable-ts) (1.3.0)\n",
      "Using cached more_itertools-10.1.0-py3-none-any.whl (55 kB)\n",
      "Downloading torchaudio-2.1.1-cp311-cp311-macosx_11_0_arm64.whl (1.7 MB)\n",
      "\u001b[2K   \u001b[90m━━━━━━━━━━━━━━━━━━━━━━━━━━━━━━━━━━━━━━━━\u001b[0m \u001b[32m1.7/1.7 MB\u001b[0m \u001b[31m3.4 MB/s\u001b[0m eta \u001b[36m0:00:00\u001b[0ma \u001b[36m0:00:01\u001b[0mm\n",
      "\u001b[?25hDownloading tiktoken-0.5.2-cp311-cp311-macosx_11_0_arm64.whl (953 kB)\n",
      "\u001b[2K   \u001b[90m━━━━━━━━━━━━━━━━━━━━━━━━━━━━━━━━━━━━━━━━\u001b[0m \u001b[32m953.9/953.9 kB\u001b[0m \u001b[31m3.1 MB/s\u001b[0m eta \u001b[36m0:00:00\u001b[0ma \u001b[36m0:00:01\u001b[0m\n",
      "\u001b[?25hBuilding wheels for collected packages: stable-ts, openai-whisper, future\n",
      "  Building wheel for stable-ts (pyproject.toml) ... \u001b[?25ldone\n",
      "\u001b[?25h  Created wheel for stable-ts: filename=stable_ts-2.13.7-py3-none-any.whl size=83130 sha256=f32c1fd7f61e749e317bf566b31ff733249b8d29f7f737c143500daef76121f1\n",
      "  Stored in directory: /Users/metadesign/Library/Caches/pip/wheels/c0/f0/f6/d82b53a76a46eeacbf97b4dd155822de915b7860fdee4ebe26\n",
      "  Building wheel for openai-whisper (pyproject.toml) ... \u001b[?25ldone\n",
      "\u001b[?25h  Created wheel for openai-whisper: filename=openai_whisper-20231117-py3-none-any.whl size=801344 sha256=475892ee978b4f8ef787b75b09a91197d1090962c2063596be7b2618eb2a4db2\n",
      "  Stored in directory: /Users/metadesign/Library/Caches/pip/wheels/55/5d/42/c296ab046d52caa0adc0e3f159e98f011b3994a022d6282105\n",
      "  Building wheel for future (pyproject.toml) ... \u001b[?25ldone\n",
      "\u001b[?25h  Created wheel for future: filename=future-0.18.3-py3-none-any.whl size=492024 sha256=a77b128f59f0f8c56d5797a81637f1ec2c8722869c7f2ecd24e1412aaa79a46d\n",
      "  Stored in directory: /Users/metadesign/Library/Caches/pip/wheels/da/19/ca/9d8c44cd311a955509d7e13da3f0bea42400c469ef825b580b\n",
      "Successfully built stable-ts openai-whisper future\n",
      "Installing collected packages: more-itertools, future, tiktoken, ffmpeg-python, torchaudio, openai-whisper, stable-ts\n",
      "Successfully installed ffmpeg-python-0.2.0 future-0.18.3 more-itertools-10.1.0 openai-whisper-20231117 stable-ts-2.13.7 tiktoken-0.5.2 torchaudio-2.1.1\n"
     ]
    }
   ],
   "source": [
    "! pip install -U stable-ts"
   ]
  },
  {
   "cell_type": "code",
   "execution_count": 2,
   "metadata": {},
   "outputs": [
    {
     "name": "stdout",
     "output_type": "stream",
     "text": [
      "Collecting git+https://github.com/jianfch/stable-ts.git\n",
      "  Cloning https://github.com/jianfch/stable-ts.git to /private/var/folders/n6/m2hlfzn570g848rn3n9bvft00000gn/T/pip-req-build-bju33art\n",
      "  Running command git clone --filter=blob:none --quiet https://github.com/jianfch/stable-ts.git /private/var/folders/n6/m2hlfzn570g848rn3n9bvft00000gn/T/pip-req-build-bju33art\n",
      "  Resolved https://github.com/jianfch/stable-ts.git to commit d51edb6ad86b06f4582f4c06fcf8a4b6dc8e0bca\n",
      "  Installing build dependencies ... \u001b[?25ldone\n",
      "\u001b[?25h  Getting requirements to build wheel ... \u001b[?25ldone\n",
      "\u001b[?25h  Preparing metadata (pyproject.toml) ... \u001b[?25ldone\n",
      "\u001b[?25hRequirement already satisfied: numpy in ./myenv/lib/python3.11/site-packages (from stable-ts==2.13.7) (1.26.2)\n",
      "Requirement already satisfied: torch in ./myenv/lib/python3.11/site-packages (from stable-ts==2.13.7) (2.1.1)\n",
      "Requirement already satisfied: torchaudio in ./myenv/lib/python3.11/site-packages (from stable-ts==2.13.7) (2.1.1)\n",
      "Requirement already satisfied: tqdm in ./myenv/lib/python3.11/site-packages (from stable-ts==2.13.7) (4.66.1)\n",
      "Requirement already satisfied: more-itertools in ./myenv/lib/python3.11/site-packages (from stable-ts==2.13.7) (10.1.0)\n",
      "Requirement already satisfied: transformers>=4.19.0 in ./myenv/lib/python3.11/site-packages (from stable-ts==2.13.7) (4.34.1)\n",
      "Requirement already satisfied: ffmpeg-python==0.2.0 in ./myenv/lib/python3.11/site-packages (from stable-ts==2.13.7) (0.2.0)\n",
      "Requirement already satisfied: openai-whisper==20231117 in ./myenv/lib/python3.11/site-packages (from stable-ts==2.13.7) (20231117)\n",
      "Requirement already satisfied: future in ./myenv/lib/python3.11/site-packages (from ffmpeg-python==0.2.0->stable-ts==2.13.7) (0.18.3)\n",
      "Requirement already satisfied: numba in ./myenv/lib/python3.11/site-packages (from openai-whisper==20231117->stable-ts==2.13.7) (0.58.1)\n",
      "Requirement already satisfied: tiktoken in ./myenv/lib/python3.11/site-packages (from openai-whisper==20231117->stable-ts==2.13.7) (0.5.2)\n",
      "Requirement already satisfied: filelock in ./myenv/lib/python3.11/site-packages (from transformers>=4.19.0->stable-ts==2.13.7) (3.13.1)\n",
      "Requirement already satisfied: huggingface-hub<1.0,>=0.16.4 in ./myenv/lib/python3.11/site-packages (from transformers>=4.19.0->stable-ts==2.13.7) (0.17.3)\n",
      "Requirement already satisfied: packaging>=20.0 in ./myenv/lib/python3.11/site-packages (from transformers>=4.19.0->stable-ts==2.13.7) (23.2)\n",
      "Requirement already satisfied: pyyaml>=5.1 in ./myenv/lib/python3.11/site-packages (from transformers>=4.19.0->stable-ts==2.13.7) (6.0.1)\n",
      "Requirement already satisfied: regex!=2019.12.17 in ./myenv/lib/python3.11/site-packages (from transformers>=4.19.0->stable-ts==2.13.7) (2023.10.3)\n",
      "Requirement already satisfied: requests in ./myenv/lib/python3.11/site-packages (from transformers>=4.19.0->stable-ts==2.13.7) (2.31.0)\n",
      "Requirement already satisfied: tokenizers<0.15,>=0.14 in ./myenv/lib/python3.11/site-packages (from transformers>=4.19.0->stable-ts==2.13.7) (0.14.1)\n",
      "Requirement already satisfied: safetensors>=0.3.1 in ./myenv/lib/python3.11/site-packages (from transformers>=4.19.0->stable-ts==2.13.7) (0.4.1)\n",
      "Requirement already satisfied: typing-extensions in ./myenv/lib/python3.11/site-packages (from torch->stable-ts==2.13.7) (4.9.0)\n",
      "Requirement already satisfied: sympy in ./myenv/lib/python3.11/site-packages (from torch->stable-ts==2.13.7) (1.12)\n",
      "Requirement already satisfied: networkx in ./myenv/lib/python3.11/site-packages (from torch->stable-ts==2.13.7) (3.2.1)\n",
      "Requirement already satisfied: jinja2 in ./myenv/lib/python3.11/site-packages (from torch->stable-ts==2.13.7) (3.1.2)\n",
      "Requirement already satisfied: fsspec in ./myenv/lib/python3.11/site-packages (from torch->stable-ts==2.13.7) (2023.12.1)\n",
      "Requirement already satisfied: MarkupSafe>=2.0 in ./myenv/lib/python3.11/site-packages (from jinja2->torch->stable-ts==2.13.7) (2.1.3)\n",
      "Requirement already satisfied: llvmlite<0.42,>=0.41.0dev0 in ./myenv/lib/python3.11/site-packages (from numba->openai-whisper==20231117->stable-ts==2.13.7) (0.41.1)\n",
      "Requirement already satisfied: charset-normalizer<4,>=2 in ./myenv/lib/python3.11/site-packages (from requests->transformers>=4.19.0->stable-ts==2.13.7) (3.3.2)\n",
      "Requirement already satisfied: idna<4,>=2.5 in ./myenv/lib/python3.11/site-packages (from requests->transformers>=4.19.0->stable-ts==2.13.7) (3.6)\n",
      "Requirement already satisfied: urllib3<3,>=1.21.1 in ./myenv/lib/python3.11/site-packages (from requests->transformers>=4.19.0->stable-ts==2.13.7) (2.1.0)\n",
      "Requirement already satisfied: certifi>=2017.4.17 in ./myenv/lib/python3.11/site-packages (from requests->transformers>=4.19.0->stable-ts==2.13.7) (2023.11.17)\n",
      "Requirement already satisfied: mpmath>=0.19 in ./myenv/lib/python3.11/site-packages (from sympy->torch->stable-ts==2.13.7) (1.3.0)\n"
     ]
    }
   ],
   "source": [
    "! pip install -U git+https://github.com/jianfch/stable-ts.git"
   ]
  },
  {
   "cell_type": "code",
   "execution_count": 3,
   "metadata": {},
   "outputs": [],
   "source": [
    "fileName = 'ai_video_editor_sample_cropped_file.flac'"
   ]
  },
  {
   "cell_type": "code",
   "execution_count": 4,
   "metadata": {},
   "outputs": [
    {
     "name": "stderr",
     "output_type": "stream",
     "text": [
      "100%|███████████████████████████████████████| 139M/139M [01:07<00:00, 2.15MiB/s]\n",
      "/Users/metadesign/Desktop/projects/learning/transcribe-python/myenv/lib/python3.11/site-packages/stable_whisper/whisper_word_level.py:224: UserWarning: FP16 is not supported on CPU; using FP32 instead\n",
      "  warnings.warn(\"FP16 is not supported on CPU; using FP32 instead\")\n",
      "Transcribe:   0%|          | 0/181.31 [00:00<?, ?sec/s]"
     ]
    },
    {
     "name": "stdout",
     "output_type": "stream",
     "text": [
      "Detected language: english\n"
     ]
    },
    {
     "name": "stderr",
     "output_type": "stream",
     "text": [
      "Transcribe: 100%|██████████| 181.31/181.31 [00:16<00:00, 11.06sec/s]"
     ]
    },
    {
     "name": "stdout",
     "output_type": "stream",
     "text": [
      "Saved: /Users/metadesign/Desktop/projects/learning/transcribe-python/audio.srt\n"
     ]
    },
    {
     "name": "stderr",
     "output_type": "stream",
     "text": [
      "\n"
     ]
    }
   ],
   "source": [
    "import stable_whisper\n",
    "model = stable_whisper.load_model('base')\n",
    "result = model.transcribe(fileName)\n",
    "result.to_srt_vtt('audio.srt')"
   ]
  }
 ],
 "metadata": {
  "kernelspec": {
   "display_name": "myenv",
   "language": "python",
   "name": "python3"
  },
  "language_info": {
   "codemirror_mode": {
    "name": "ipython",
    "version": 3
   },
   "file_extension": ".py",
   "mimetype": "text/x-python",
   "name": "python",
   "nbconvert_exporter": "python",
   "pygments_lexer": "ipython3",
   "version": "3.11.6"
  }
 },
 "nbformat": 4,
 "nbformat_minor": 2
}
